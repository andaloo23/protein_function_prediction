{
  "nbformat": 4,
  "nbformat_minor": 0,
  "metadata": {
    "colab": {
      "provenance": [],
      "gpuType": "T4"
    },
    "kernelspec": {
      "name": "python3",
      "display_name": "Python 3"
    },
    "language_info": {
      "name": "python"
    },
    "accelerator": "GPU"
  },
  "cells": [
    {
      "cell_type": "code",
      "execution_count": null,
      "metadata": {
        "colab": {
          "base_uri": "https://localhost:8080/"
        },
        "id": "4RMuG_UZ7tfT",
        "outputId": "3dce73e6-167b-46e3-c773-9ff429b6d03b"
      },
      "outputs": [
        {
          "output_type": "stream",
          "name": "stderr",
          "text": [
            "<ipython-input-1-fb25d75d2359>:12: DtypeWarning: Columns (12,15,16,18,19,21,27,28,29) have mixed types. Specify dtype option on import or set low_memory=False.\n",
            "  data = pd.read_csv(\"protein_data.tsv.gz\", sep=\"\\t\")\n"
          ]
        }
      ],
      "source": [
        "import torch\n",
        "from torch import nn\n",
        "import pandas as pd\n",
        "from torch.utils.data import Dataset, DataLoader\n",
        "from sklearn.preprocessing import OneHotEncoder\n",
        "import tqdm\n",
        "import torch.optim as optim\n",
        "import numpy as np\n",
        "from sklearn.utils import shuffle\n",
        "\n",
        "\n",
        "data = pd.read_csv(\"protein_data.tsv.gz\", sep=\"\\t\")\n",
        "data = data[data[\"Length\"] <= 256] # removes all proteins with a length > 256\n",
        "# Reduce EC number to 3 digits to decrease data size\n",
        "data = data.dropna(subset=['EC number']).assign(\n",
        "    ec_number_reduced = lambda x: x['EC number'].str.split(\".\").str[:3].str.join(\".\")\n",
        ")\n",
        "\n",
        "# Filter out EC numbers with frequency less than 100\n",
        "ec_number_counts = data[\"ec_number_reduced\"].value_counts()\n",
        "data = data[data[\"ec_number_reduced\"].isin(ec_number_counts[ec_number_counts >= 100].index)]"
      ]
    },
    {
      "cell_type": "code",
      "source": [
        "vocab = set()\n",
        "for i in data[\"Sequence\"]:\n",
        "    for j in i:\n",
        "        vocab.add(j)\n",
        "tokens = \"\".join(sorted(list(vocab)))\n",
        "vocab_size = len(tokens) + 1\n",
        "num_classes = len(set(data[\"ec_number_reduced\"].tolist()))"
      ],
      "metadata": {
        "id": "Ym-rjF7YDPKp"
      },
      "execution_count": null,
      "outputs": []
    },
    {
      "cell_type": "code",
      "source": [
        "class CustomDataset(Dataset):\n",
        "    def __init__(self, data, labels):\n",
        "        self.data = data\n",
        "        self.labels = labels\n",
        "\n",
        "    def __len__(self):\n",
        "        return len(self.labels)\n",
        "\n",
        "    def __getitem__(self, idx):\n",
        "        return tokenize(self.data[idx]), self.labels[idx]\n",
        "\n",
        "def tokenize(sequence, max_length=256):\n",
        "    aa_to_idx = {aa : idx + 1 for idx, aa in enumerate(tokens)}\n",
        "    encoding = np.zeros(max_length, dtype=int)\n",
        "    for i, aa in enumerate(sequence):\n",
        "        if aa in aa_to_idx:\n",
        "            encoding[i] = aa_to_idx[aa]\n",
        "    return encoding\n",
        "\n",
        "encoder = OneHotEncoder(sparse=False)\n",
        "encoded_column = encoder.fit_transform(data[[\"ec_number_reduced\"]])\n",
        "\n",
        "data, encoded_column = shuffle(data, encoded_column, random_state=42)\n",
        "\n",
        "# Split data into 80% training data and 20% validation data\n",
        "train_size = int(0.8 * len(data))\n",
        "train_data = data[:train_size]\n",
        "val_data = data[train_size:]\n",
        "\n",
        "train_labels = encoded_column[:train_size]\n",
        "val_labels = encoded_column[train_size:]\n",
        "\n",
        "train_dataset = CustomDataset(train_data[\"Sequence\"].tolist(), train_labels)\n",
        "val_dataset = CustomDataset(val_data[\"Sequence\"].tolist(), val_labels)\n",
        "\n",
        "# Used to combine data into batches\n",
        "def collate_fn(batch):\n",
        "    proteins = [item[0] for item in batch]\n",
        "    labels = [item[1] for item in batch]\n",
        "    return proteins, torch.tensor(labels)\n",
        "\n",
        "batch_size = 64\n",
        "# Put data into batches\n",
        "train_dataloader = DataLoader(train_dataset, batch_size, collate_fn=collate_fn, shuffle=True)\n",
        "val_dataloader = DataLoader(val_dataset, batch_size, collate_fn=collate_fn, shuffle=True)"
      ],
      "metadata": {
        "colab": {
          "base_uri": "https://localhost:8080/"
        },
        "id": "13rNuBBqrKi3",
        "outputId": "c748c275-0210-4753-c4cd-66fb0469fef6"
      },
      "execution_count": null,
      "outputs": [
        {
          "output_type": "stream",
          "name": "stderr",
          "text": [
            "/usr/local/lib/python3.10/dist-packages/sklearn/preprocessing/_encoders.py:975: FutureWarning: `sparse` was renamed to `sparse_output` in version 1.2 and will be removed in 1.4. `sparse_output` is ignored unless you leave `sparse` to its default value.\n",
            "  warnings.warn(\n"
          ]
        }
      ]
    },
    {
      "cell_type": "code",
      "source": [
        "class CNNModel(nn.Module):\n",
        "    def __init__(self, num_classes, vocab_size, embedding_dim=16, num_filters=512, max_kernel_size=129, dense_depth=0):\n",
        "        super(CNNModel, self).__init__()\n",
        "\n",
        "        self.embedding = nn.Embedding(vocab_size, embedding_dim)\n",
        "\n",
        "        # Define convolutional layers with different kernel sizes\n",
        "        self.conv_layers = nn.ModuleList([\n",
        "            nn.Conv1d(in_channels=embedding_dim, out_channels=num_filters, kernel_size=kernel_size)\n",
        "            for kernel_size in range(8, max_kernel_size, 8)\n",
        "        ])\n",
        "\n",
        "        # Define pooling layers for each convolutional layer\n",
        "        self.pool_layers = nn.ModuleList([\n",
        "            nn.MaxPool1d(kernel_size=256 - kernel_size + 1)  # MAXLEN = 256 (adjust as per your data)\n",
        "            for kernel_size in range(8, max_kernel_size, 8)\n",
        "        ])\n",
        "\n",
        "        # Fully connected layers\n",
        "        self.flatten_layers = nn.ModuleList([\n",
        "            nn.Flatten()\n",
        "            for _ in range(len(self.conv_layers))\n",
        "        ])\n",
        "\n",
        "        input_dim = len(self.conv_layers) * num_filters\n",
        "        self.fc_layers = nn.ModuleList([\n",
        "            nn.Linear(input_dim if i == 0 else 128, 128)\n",
        "            for i in range(dense_depth)\n",
        "        ])\n",
        "        self.output_layer = nn.Linear(128 if dense_depth > 0 else input_dim, num_classes)\n",
        "\n",
        "    def forward(self, x):\n",
        "        x = self.embedding(x).permute(0, 2, 1)\n",
        "\n",
        "        conv_outputs = []\n",
        "        for conv, pool, flatten in zip(self.conv_layers, self.pool_layers, self.flatten_layers):\n",
        "            conv_out = nn.functional.relu(conv(x))\n",
        "            pooled_out = pool(conv_out)\n",
        "            flattened_out = flatten(pooled_out)\n",
        "            conv_outputs.append(flattened_out)\n",
        "\n",
        "        x = torch.cat(conv_outputs, dim=1)\n",
        "\n",
        "        for fc in self.fc_layers:\n",
        "            x = F.relu(fc(x))\n",
        "\n",
        "        x = self.output_layer(x)\n",
        "        return x\n",
        "\n",
        "model = CNNModel(num_classes, vocab_size).to(\"cuda\")"
      ],
      "metadata": {
        "id": "oYHHSq4rw6sf"
      },
      "execution_count": null,
      "outputs": []
    },
    {
      "cell_type": "code",
      "source": [
        "from google.colab import drive\n",
        "drive.mount('/content/drive')"
      ],
      "metadata": {
        "colab": {
          "base_uri": "https://localhost:8080/"
        },
        "id": "ehtNklwuxNkB",
        "outputId": "17466dcd-c20a-47a6-9c66-fb448568f9d5"
      },
      "execution_count": null,
      "outputs": [
        {
          "output_type": "stream",
          "name": "stdout",
          "text": [
            "Mounted at /content/drive\n"
          ]
        }
      ]
    },
    {
      "cell_type": "code",
      "source": [
        "categories = encoder.categories_[0]\n",
        "\n",
        "ec_to_index = {category : index for index, category in enumerate(categories)}\n",
        "index_to_ec = {index : category for index, category in enumerate(categories)}\n",
        "\n",
        "custom_weights = [0 for _ in range(num_classes)]\n",
        "\n",
        "for ec in data[\"ec_number_reduced\"]:\n",
        "    index = ec_to_index[ec]\n",
        "    custom_weights[index] += 1\n",
        "\n",
        "custom_weights = torch.tensor(custom_weights, dtype=torch.float32)\n",
        "custom_weights = custom_weights.min() / custom_weights\n",
        "weight_tensor = custom_weights.to('cuda')\n",
        "\n",
        "loss_function = nn.CrossEntropyLoss(weight=weight_tensor)\n",
        "\n",
        "learning_rate = 0.001\n",
        "epochs = 1000\n",
        "early_stop_count = 5\n",
        "min_loss_improvement = 0.001\n",
        "\n",
        "optimizer = optim.Adam(model.parameters(), lr=learning_rate)\n",
        "losses = []\n",
        "accuracies = []\n",
        "top_5_accuracies = []\n",
        "\n",
        "best_train_loss = float(\"inf\")\n",
        "no_improvement_count = 0\n",
        "\n",
        "train_vs_val_loss = []\n",
        "for epoch in range(0, epochs):\n",
        "    model.train()\n",
        "\n",
        "    train_loss = 0\n",
        "    for batch in tqdm.tqdm(train_dataloader):\n",
        "        inputs = torch.tensor(batch[0]).to(\"cuda\")\n",
        "        labels = batch[1].to(\"cuda\")\n",
        "\n",
        "        optimizer.zero_grad()\n",
        "        logits = model(inputs)\n",
        "        loss = loss_function(logits, labels)\n",
        "        loss.backward()\n",
        "        optimizer.step()\n",
        "\n",
        "        train_loss += loss.item()\n",
        "\n",
        "    train_loss /= len(train_dataloader)\n",
        "    losses.append(train_loss)\n",
        "\n",
        "    # Accuracy\n",
        "    model.eval()\n",
        "\n",
        "    correct = 0\n",
        "    total = 0\n",
        "    top_5_correct = 0\n",
        "    top_5_total = 0\n",
        "    val_loss = 0\n",
        "\n",
        "    with torch.no_grad():\n",
        "        for batch in val_dataloader:\n",
        "            inputs = torch.tensor(batch[0]).to(\"cuda\")\n",
        "            labels = batch[1].to(\"cuda\")\n",
        "\n",
        "            # Top-1 Accuracy\n",
        "            logits = model(inputs)\n",
        "            probs = nn.functional.softmax(logits, dim=1)\n",
        "\n",
        "            pred_class = probs.argmax(-1).flatten()\n",
        "            labels = labels.argmax(-1).flatten()\n",
        "            correct += (pred_class == labels).sum().item()\n",
        "            total += pred_class.shape[0]\n",
        "\n",
        "            # Top-5 Accuracy\n",
        "            pred_classes = probs.topk(5, dim=1)[1]\n",
        "\n",
        "            for i in range(pred_classes.shape[0]):\n",
        "                if labels[i] in pred_classes[i]:\n",
        "                    top_5_correct += 1\n",
        "                top_5_total += 1\n",
        "\n",
        "            val_loss += loss_function(logits, labels).item()\n",
        "        val_loss /= len(val_dataloader)\n",
        "\n",
        "    train_vs_val_loss.append((train_loss, val_loss))\n",
        "\n",
        "    accuracy = correct / total * 100\n",
        "    top_5_accuracy = top_5_correct / top_5_total * 100\n",
        "    accuracies.append(accuracy)\n",
        "    top_5_accuracies.append(accuracy)\n",
        "    print(f\"Epoch {epoch}, train loss: {train_loss:.4f}, val loss: {val_loss:.4f}, accuracy: {accuracy}\")\n",
        "\n",
        "    # Early stop\n",
        "    if best_train_loss - train_loss > min_loss_improvement:\n",
        "        best_train_loss = train_loss\n",
        "        no_improvement_count = 0\n",
        "    else:\n",
        "        no_improvement_count += 1\n",
        "\n",
        "    if no_improvement_count >= early_stop_count:\n",
        "        break"
      ],
      "metadata": {
        "colab": {
          "base_uri": "https://localhost:8080/",
          "height": 233
        },
        "id": "yyOs0Z-mvtt3",
        "outputId": "3e59860e-ecae-4739-e017-293b8da254ae"
      },
      "execution_count": null,
      "outputs": [
        {
          "output_type": "stream",
          "name": "stderr",
          "text": [
            "  6%|▌         | 51/875 [00:07<02:00,  6.84it/s]\n"
          ]
        },
        {
          "output_type": "error",
          "ename": "KeyboardInterrupt",
          "evalue": "",
          "traceback": [
            "\u001b[0;31m---------------------------------------------------------------------------\u001b[0m",
            "\u001b[0;31mKeyboardInterrupt\u001b[0m                         Traceback (most recent call last)",
            "\u001b[0;32m<ipython-input-10-077eb7908ad6>\u001b[0m in \u001b[0;36m<cell line: 32>\u001b[0;34m()\u001b[0m\n\u001b[1;32m     44\u001b[0m         \u001b[0moptimizer\u001b[0m\u001b[0;34m.\u001b[0m\u001b[0mstep\u001b[0m\u001b[0;34m(\u001b[0m\u001b[0;34m)\u001b[0m\u001b[0;34m\u001b[0m\u001b[0;34m\u001b[0m\u001b[0m\n\u001b[1;32m     45\u001b[0m \u001b[0;34m\u001b[0m\u001b[0m\n\u001b[0;32m---> 46\u001b[0;31m         \u001b[0mtrain_loss\u001b[0m \u001b[0;34m+=\u001b[0m \u001b[0mloss\u001b[0m\u001b[0;34m.\u001b[0m\u001b[0mitem\u001b[0m\u001b[0;34m(\u001b[0m\u001b[0;34m)\u001b[0m\u001b[0;34m\u001b[0m\u001b[0;34m\u001b[0m\u001b[0m\n\u001b[0m\u001b[1;32m     47\u001b[0m \u001b[0;34m\u001b[0m\u001b[0m\n\u001b[1;32m     48\u001b[0m     \u001b[0mtrain_loss\u001b[0m \u001b[0;34m/=\u001b[0m \u001b[0mlen\u001b[0m\u001b[0;34m(\u001b[0m\u001b[0mtrain_dataloader\u001b[0m\u001b[0;34m)\u001b[0m\u001b[0;34m\u001b[0m\u001b[0;34m\u001b[0m\u001b[0m\n",
            "\u001b[0;31mKeyboardInterrupt\u001b[0m: "
          ]
        }
      ]
    },
    {
      "cell_type": "code",
      "source": [
        "checkpoint_path = \"/content/drive/My Drive/Protein Function ESM/CNN_model_epoch_47.pth\"\n",
        "checkpoint = torch.load(checkpoint_path)\n",
        "model.load_state_dict(checkpoint['state_dict'])"
      ],
      "metadata": {
        "colab": {
          "base_uri": "https://localhost:8080/"
        },
        "id": "VwNq7md2ZvdG",
        "outputId": "62eab031-bbcf-4d59-92c4-88096b86adea"
      },
      "execution_count": null,
      "outputs": [
        {
          "output_type": "execute_result",
          "data": {
            "text/plain": [
              "<All keys matched successfully>"
            ]
          },
          "metadata": {},
          "execution_count": 11
        }
      ]
    },
    {
      "cell_type": "code",
      "source": [
        "model.eval()\n",
        "\n",
        "correct = 0\n",
        "total = 0\n",
        "\n",
        "top_5_correct = 0\n",
        "top_5_total = 0\n",
        "\n",
        "class_correct = [0] * num_classes\n",
        "class_total = [0] * num_classes\n",
        "\n",
        "class_false_positives = [0] * num_classes\n",
        "class_false_negatives = [0] * num_classes\n",
        "\n",
        "with torch.no_grad():\n",
        "    for batch in tqdm.tqdm(val_dataloader):\n",
        "        inputs = torch.tensor(batch[0]).to(\"cuda\")\n",
        "        labels = batch[1].to(\"cuda\")\n",
        "\n",
        "        # Top-1 Accuracy\n",
        "        logits = model(inputs)\n",
        "        probs = nn.functional.softmax(logits, dim=1)\n",
        "\n",
        "        pred_class = probs.argmax(-1).flatten()\n",
        "        labels = labels.argmax(-1).flatten()\n",
        "        correct += (pred_class == labels).sum().item()\n",
        "        total += pred_class.shape[0]\n",
        "\n",
        "        # Top-5 Accuracy\n",
        "        pred_classes = probs.topk(60, dim=1)[1]\n",
        "\n",
        "        for i in range(pred_classes.shape[0]):\n",
        "            if labels[i] in pred_classes[i]:\n",
        "                top_5_correct += 1\n",
        "            top_5_total += 1\n",
        "\n",
        "        # Accuracy per class\n",
        "        for i in range(labels.shape[0]):\n",
        "            if pred_class[i] == labels[i]:\n",
        "                class_correct[labels[i]] += 1\n",
        "            else:\n",
        "                class_false_positives[pred_class[i]] += 1 # Prediction was wrong\n",
        "                class_false_negatives[labels[i]] += 1 # Label was not predicted\n",
        "            class_total[labels[i]] += 1"
      ],
      "metadata": {
        "colab": {
          "base_uri": "https://localhost:8080/"
        },
        "id": "mpFbIlVaQTFq",
        "outputId": "3feaf920-1db6-4525-e6bb-b4da06050a5d"
      },
      "execution_count": null,
      "outputs": [
        {
          "output_type": "stream",
          "name": "stderr",
          "text": [
            "100%|██████████| 219/219 [00:10<00:00, 20.72it/s]\n"
          ]
        }
      ]
    },
    {
      "cell_type": "code",
      "source": [
        "accuracy = correct / total * 100\n",
        "top_5_accuracy = top_5_correct / top_5_total * 100\n",
        "print(f\"Accuracy: {accuracy:.4f}\")\n",
        "print(f\"Top-5 Accuracy: {top_5_accuracy:.4f}\")\n",
        "\n",
        "highest = 0\n",
        "highest_idx = 0\n",
        "for i in range(num_classes):\n",
        "    if class_total[i] != 0:\n",
        "        if class_correct[i] / class_total[i] > highest:\n",
        "            highest = class_correct[i] / class_total[i]\n",
        "            highest_idx = i\n",
        "\n",
        "lowest = float(\"inf\")\n",
        "lowest_idx = 0\n",
        "for i in range(num_classes):\n",
        "    if class_total[i] != 0:\n",
        "        if class_correct[i] / class_total[i] < lowest:\n",
        "            lowest = class_correct[i] / class_total[i]\n",
        "            lowest_idx = i\n",
        "\n",
        "highest_accuracy = highest * 100\n",
        "lowest_accuracy = lowest * 100\n",
        "print(f\"Highest Accuracy Label: {highest_idx}, Accuracy: {highest_accuracy:.4f}%\")\n",
        "print(f\"Lowest Accuracy Label: {lowest_idx}, Accuracy: {lowest_accuracy:.4f}%\")"
      ],
      "metadata": {
        "colab": {
          "base_uri": "https://localhost:8080/"
        },
        "id": "6fmhG_gHQ31u",
        "outputId": "809fcf53-a665-49a5-8c66-0fa988ca0b08"
      },
      "execution_count": null,
      "outputs": [
        {
          "output_type": "stream",
          "name": "stdout",
          "text": [
            "Accuracy: 96.0354\n",
            "Top-5 Accuracy: 99.8000\n",
            "Highest Accuracy Label: 8, Accuracy: 100.0000%\n",
            "Lowest Accuracy Label: 47, Accuracy: 45.0000%\n"
          ]
        }
      ]
    },
    {
      "cell_type": "code",
      "source": [
        "import matplotlib.pyplot as plt\n",
        "\n",
        "epochs_lst = list(range(1, len(losses)+1))\n",
        "\n",
        "plt.plot(epochs_lst, losses)\n",
        "plt.title(\"Loss per Epoch\")\n",
        "plt.xlabel(\"Epoch\")\n",
        "plt.ylabel(\"Loss\")\n",
        "plt.grid(True)\n",
        "plt.show()"
      ],
      "metadata": {
        "colab": {
          "base_uri": "https://localhost:8080/",
          "height": 472
        },
        "id": "g8QDiAsKRDMP",
        "outputId": "04402157-9ae3-4769-aced-fd9e5b77d019"
      },
      "execution_count": null,
      "outputs": [
        {
          "output_type": "display_data",
          "data": {
            "text/plain": [
              "<Figure size 640x480 with 1 Axes>"
            ],
            "image/png": "[encoded data removed]"
          },
          "metadata": {}
        }
      ]
    },
    {
      "cell_type": "code",
      "source": [
        "plt.plot(epochs_lst, accuracies)\n",
        "plt.title(\"Accuracy per Epoch\")\n",
        "plt.xlabel(\"Epoch\")\n",
        "plt.ylabel(\"Loss\")\n",
        "plt.grid(True)\n",
        "plt.show()"
      ],
      "metadata": {
        "colab": {
          "base_uri": "https://localhost:8080/",
          "height": 472
        },
        "id": "kHuJEOJ7RiJE",
        "outputId": "cf64f72e-8c68-4d38-c8e0-73b202359d66"
      },
      "execution_count": null,
      "outputs": [
        {
          "output_type": "display_data",
          "data": {
            "text/plain": [
              "<Figure size 640x480 with 1 Axes>"
            ],
            "image/png": "[encoded data removed]"
          },
          "metadata": {}
        }
      ]
    },
    {
      "cell_type": "code",
      "source": [
        "val_losses = [x[1] for x in train_vs_val_loss]\n",
        "\n",
        "plt.plot(losses, label=\"Traning Loss\")\n",
        "plt.plot(val_losses, label=\"Validation Loss\")\n",
        "plt.title(\"Loss per Epoch\")\n",
        "plt.xlabel(\"Epoch\")\n",
        "plt.ylabel(\"Loss\")\n",
        "plt.grid(True)\n",
        "plt.legend()\n",
        "plt.show()"
      ],
      "metadata": {
        "colab": {
          "base_uri": "https://localhost:8080/",
          "height": 472
        },
        "id": "QB1fJZy5SfT5",
        "outputId": "3308d931-8475-468f-e2f6-3fc35d9b16dd"
      },
      "execution_count": null,
      "outputs": [
        {
          "output_type": "display_data",
          "data": {
            "text/plain": [
              "<Figure size 640x480 with 1 Axes>"
            ],
            "image/png": "[encoded data removed]"
          },
          "metadata": {}
        }
      ]
    },
    {
      "cell_type": "code",
      "source": [
        "import matplotlib.pyplot as plt\n",
        "\n",
        "class_accuracies = []\n",
        "for i in range(num_classes):\n",
        "    if class_total[i] > 0:\n",
        "        accuracy = class_correct[i] / class_total[i]\n",
        "        class_accuracies.append((accuracy, i))\n",
        "\n",
        "#class_accuracies.sort()\n",
        "\n",
        "accuracies_only = [acc[0] for acc in class_accuracies]\n",
        "plt.boxplot(accuracies_only)\n",
        "plt.xticks([])\n",
        "plt.ylabel(\"Accuracy\")\n",
        "plt.show()\n",
        "\n",
        "Q1 = np.percentile(accuracies_only, 25)\n",
        "median = np.percentile(accuracies_only, 50)\n",
        "Q3 = np.percentile(accuracies_only, 75)\n",
        "IQR = Q3 - Q1\n",
        "\n",
        "lower_bound = Q1 - 1.5 * IQR\n",
        "upper_bound = Q3 + 1.5 * IQR\n",
        "\n",
        "outliers = [(acc[0], acc[1], index_to_ec[acc[1]]) for acc in class_accuracies if acc[0] < lower_bound or acc[0] > upper_bound]\n",
        "\n",
        "print(median)\n",
        "print(Q1, Q3, IQR)\n",
        "print(outliers)"
      ],
      "metadata": {
        "colab": {
          "base_uri": "https://localhost:8080/",
          "height": 480
        },
        "id": "O8aHLhJVSiBz",
        "outputId": "8421b843-770a-4c3c-a5aa-0458a8de8a01"
      },
      "execution_count": null,
      "outputs": [
        {
          "output_type": "display_data",
          "data": {
            "text/plain": [
              "<Figure size 640x480 with 1 Axes>"
            ],
            "image/png": "[encoded data removed]"
          },
          "metadata": {}
        },
        {
          "output_type": "stream",
          "name": "stdout",
          "text": [
            "0.9629629629629629\n",
            "0.9347826086956522 0.9835233441910967 0.04874073549544444\n",
            "[(0.6842105263157895, 0, '1.-.-'), (0.8441558441558441, 1, '1.1.1'), (0.7916666666666666, 25, '2.7.11'), (0.5652173913043478, 40, '3.1.4'), (0.8461538461538461, 41, '3.2.1'), (0.8148148148148148, 43, '3.4.-'), (0.45, 47, '3.4.24'), (0.825, 57, '4.1.3'), (0.7727272727272727, 67, '5.3.3')]\n"
          ]
        }
      ]
    },
    {
      "cell_type": "code",
      "source": [
        "accuracies = [(i, class_correct[i] / class_total[i]) for i in range(num_classes) if class_total[i] > 0]\n",
        "ec = [index_to_ec[acc[0]] for acc in accuracies]\n",
        "lst = [acc[1] for acc in accuracies]\n",
        "\n",
        "plt.figure(figsize=(10, 5))\n",
        "plt.bar(range(len(lst)), lst, color='green')\n",
        "plt.title(\"Accuracy of EC Numbers\")\n",
        "plt.xlabel(\"EC Number Index\")\n",
        "plt.ylabel(\"Accuracy\")\n",
        "plt.xticks(range(len(ec)), ec, rotation='vertical')\n",
        "plt.tight_layout()\n",
        "plt.show()"
      ],
      "metadata": {
        "colab": {
          "base_uri": "https://localhost:8080/",
          "height": 507
        },
        "id": "L4qR90KnSl7U",
        "outputId": "6be19c61-abbf-494e-e5d9-d550394e6517"
      },
      "execution_count": null,
      "outputs": [
        {
          "output_type": "display_data",
          "data": {
            "text/plain": [
              "<Figure size 1000x500 with 1 Axes>"
            ],
            "image/png": "[encoded data removed]"
          },
          "metadata": {}
        }
      ]
    },
    {
      "cell_type": "code",
      "source": [
        "checkpoint = {\n",
        "            \"epoch\": epoch + 1,\n",
        "            \"state_dict\": model.state_dict(),\n",
        "            \"optimizer\": optimizer.state_dict(),\n",
        "            \"loss\": loss.item()\n",
        "        }\n",
        "\n",
        "torch.save(checkpoint, f\"/content/drive/My Drive/Protein Function ESM/CNN_model_epoch_47.pth\")"
      ],
      "metadata": {
        "id": "imn-sS6_S1n_"
      },
      "execution_count": null,
      "outputs": []
    },
    {
      "cell_type": "code",
      "source": [
        "from collections import defaultdict\n",
        "import tqdm\n",
        "\n",
        "# Initialize counters\n",
        "correct = 0\n",
        "total = 0\n",
        "top_5_correct = 0\n",
        "top_5_total = 0\n",
        "\n",
        "class_correct = defaultdict(int)\n",
        "class_false_positives = defaultdict(int)\n",
        "class_false_negatives = defaultdict(int)\n",
        "class_total = defaultdict(int)\n",
        "\n",
        "with torch.no_grad():\n",
        "    for batch in tqdm.tqdm(val_dataloader):\n",
        "        inputs = torch.tensor(batch[0]).to(\"cuda\")\n",
        "        labels = batch[1].to(\"cuda\")\n",
        "\n",
        "        # Top-1 Accuracy\n",
        "        logits = model(inputs)\n",
        "        probs = nn.functional.softmax(logits, dim=1)\n",
        "\n",
        "        pred_class = probs.argmax(-1).flatten()\n",
        "        labels = labels.argmax(-1).flatten()\n",
        "        correct += (pred_class == labels).sum().item()\n",
        "        total += pred_class.shape[0]\n",
        "\n",
        "        # Top-5 Accuracy\n",
        "        pred_classes = probs.topk(5, dim=1)[1]\n",
        "\n",
        "        for i in range(pred_classes.shape[0]):\n",
        "            if labels[i] in pred_classes[i]:\n",
        "                top_5_correct += 1\n",
        "            top_5_total += 1\n",
        "\n",
        "        # Accuracy per class\n",
        "        for i in range(labels.shape[0]):\n",
        "            if pred_class[i] == labels[i]:\n",
        "                class_correct[labels[i].item()] += 1\n",
        "            else:\n",
        "                class_false_positives[pred_class[i].item()] += 1 # Prediction was wrong\n",
        "                class_false_negatives[labels[i].item()] += 1 # Label was not predicted\n",
        "            class_total[labels[i].item()] += 1\n",
        "\n",
        "# Calculate precision, recall, and F1-score for each class\n",
        "class_precision = {}\n",
        "class_recall = {}\n",
        "class_f1_score = {}\n",
        "precision_count = 0\n",
        "recall_count = 0\n",
        "\n",
        "\n",
        "for cls in class_total.keys():\n",
        "    tp = class_correct[cls]\n",
        "    fp = class_false_positives[cls]\n",
        "    fn = class_false_negatives[cls]\n",
        "\n",
        "    precision = tp / (tp + fp) if (tp + fp) > 0 else 0\n",
        "    recall = tp / (tp + fn) if (tp + fn) > 0 else 0\n",
        "    f1_score = 2 * (precision * recall) / (precision + recall) if (precision + recall) > 0 else 0\n",
        "\n",
        "    class_precision[cls] = precision\n",
        "    class_recall[cls] = recall\n",
        "    class_f1_score[cls] = f1_score\n",
        "\n",
        "    precision_count += precision\n",
        "    recall_count += recall\n",
        "\n",
        "# Calculate macro and weighted F1-score\n",
        "macro_f1 = sum(class_f1_score.values()) / len(class_f1_score)\n",
        "weighted_f1 = sum(class_f1_score[cls] * class_total[cls] for cls in class_f1_score) / sum(class_total.values())\n",
        "\n",
        "# Print overall accuracy\n",
        "print(f'Overall Top-1 Accuracy: {correct / total:.4f}')\n",
        "print(f'Overall Top-5 Accuracy: {top_5_correct / top_5_total:.4f}')\n",
        "\n",
        "# Print precision, recall, and F1-score for each class\n",
        "for cls in class_total.keys():\n",
        "    print(f'Class {cls}: Precision = {class_precision[cls]:.4f}, Recall = {class_recall[cls]:.4f}, F1-score = {class_f1_score[cls]:.4f}')\n",
        "\n",
        "# Print macro and weighted F1-scores\n",
        "print(f'Macro F1-score: {macro_f1:.4f}')\n",
        "print(f'Weighted F1-score: {weighted_f1:.4f}')\n",
        "print(precision_count / len(class_total), recall_count / len(class_total))"
      ],
      "metadata": {
        "colab": {
          "base_uri": "https://localhost:8080/"
        },
        "id": "RTPd2jEMTCNs",
        "outputId": "6fa393f0-759e-4cb9-f747-2e106801a7ae"
      },
      "execution_count": null,
      "outputs": [
        {
          "output_type": "stream",
          "name": "stderr",
          "text": [
            "100%|██████████| 219/219 [00:11<00:00, 19.52it/s]"
          ]
        },
        {
          "output_type": "stream",
          "name": "stdout",
          "text": [
            "Overall Top-1 Accuracy: 0.9604\n",
            "Overall Top-5 Accuracy: 0.9772\n",
            "Class 45: Precision = 0.9721, Recall = 0.9721, F1-score = 0.9721\n",
            "Class 68: Precision = 1.0000, Recall = 0.9906, F1-score = 0.9953\n",
            "Class 21: Precision = 0.9769, Recall = 0.9850, F1-score = 0.9809\n",
            "Class 75: Precision = 0.9683, Recall = 0.9858, F1-score = 0.9770\n",
            "Class 2: Precision = 0.8866, Recall = 0.9348, F1-score = 0.9101\n",
            "Class 24: Precision = 0.9785, Recall = 0.9193, F1-score = 0.9480\n",
            "Class 18: Precision = 0.9631, Recall = 0.9359, F1-score = 0.9493\n",
            "Class 15: Precision = 0.9553, Recall = 0.9572, F1-score = 0.9563\n",
            "Class 32: Precision = 1.0000, Recall = 0.9886, F1-score = 0.9943\n",
            "Class 62: Precision = 1.0000, Recall = 0.9500, F1-score = 0.9744\n",
            "Class 27: Precision = 0.9636, Recall = 0.9790, F1-score = 0.9713\n",
            "Class 9: Precision = 1.0000, Recall = 0.9726, F1-score = 0.9861\n",
            "Class 59: Precision = 0.9482, Recall = 0.9837, F1-score = 0.9656\n",
            "Class 26: Precision = 0.9986, Recall = 0.9864, F1-score = 0.9925\n",
            "Class 37: Precision = 0.9055, Recall = 0.9776, F1-score = 0.9402\n",
            "Class 22: Precision = 0.9718, Recall = 0.9610, F1-score = 0.9664\n",
            "Class 69: Precision = 0.9211, Recall = 0.9524, F1-score = 0.9365\n",
            "Class 52: Precision = 1.0000, Recall = 0.8889, F1-score = 0.9412\n",
            "Class 53: Precision = 0.9761, Recall = 0.9695, F1-score = 0.9728\n",
            "Class 30: Precision = 0.8602, Recall = 0.8907, F1-score = 0.8752\n",
            "Class 39: Precision = 0.9683, Recall = 0.9322, F1-score = 0.9499\n",
            "Class 66: Precision = 0.9957, Recall = 0.9935, F1-score = 0.9946\n",
            "Class 76: Precision = 1.0000, Recall = 1.0000, F1-score = 1.0000\n",
            "Class 49: Precision = 0.9684, Recall = 0.9725, F1-score = 0.9704\n",
            "Class 28: Precision = 0.9937, Recall = 0.9752, F1-score = 0.9843\n",
            "Class 72: Precision = 1.0000, Recall = 0.9706, F1-score = 0.9851\n",
            "Class 73: Precision = 1.0000, Recall = 0.9804, F1-score = 0.9901\n",
            "Class 1: Precision = 0.8228, Recall = 0.8442, F1-score = 0.8333\n",
            "Class 56: Precision = 1.0000, Recall = 0.9348, F1-score = 0.9663\n",
            "Class 6: Precision = 0.9884, Recall = 0.9659, F1-score = 0.9770\n",
            "Class 36: Precision = 0.9937, Recall = 0.8971, F1-score = 0.9429\n",
            "Class 31: Precision = 0.9770, Recall = 0.9508, F1-score = 0.9637\n",
            "Class 42: Precision = 0.9940, Recall = 0.9540, F1-score = 0.9736\n",
            "Class 35: Precision = 0.9398, Recall = 0.9398, F1-score = 0.9398\n",
            "Class 74: Precision = 1.0000, Recall = 0.9744, F1-score = 0.9870\n",
            "Class 41: Precision = 0.5116, Recall = 0.8462, F1-score = 0.6377\n",
            "Class 55: Precision = 0.7985, Recall = 0.9878, F1-score = 0.8832\n",
            "Class 19: Precision = 0.9950, Recall = 0.9476, F1-score = 0.9707\n",
            "Class 14: Precision = 1.0000, Recall = 0.9429, F1-score = 0.9706\n",
            "Class 48: Precision = 1.0000, Recall = 1.0000, F1-score = 1.0000\n",
            "Class 61: Precision = 1.0000, Recall = 0.9722, F1-score = 0.9859\n",
            "Class 51: Precision = 0.9928, Recall = 0.9684, F1-score = 0.9805\n",
            "Class 16: Precision = 1.0000, Recall = 0.9318, F1-score = 0.9647\n",
            "Class 50: Precision = 1.0000, Recall = 0.9796, F1-score = 0.9897\n",
            "Class 40: Precision = 1.0000, Recall = 0.5652, F1-score = 0.7222\n",
            "Class 70: Precision = 1.0000, Recall = 1.0000, F1-score = 1.0000\n",
            "Class 44: Precision = 1.0000, Recall = 0.9500, F1-score = 0.9744\n",
            "Class 46: Precision = 0.9020, Recall = 0.9583, F1-score = 0.9293\n",
            "Class 58: Precision = 1.0000, Recall = 1.0000, F1-score = 1.0000\n",
            "Class 78: Precision = 0.9697, Recall = 0.9897, F1-score = 0.9796\n",
            "Class 11: Precision = 0.9903, Recall = 0.9903, F1-score = 0.9903\n",
            "Class 10: Precision = 0.9778, Recall = 1.0000, F1-score = 0.9888\n",
            "Class 63: Precision = 0.9948, Recall = 0.9455, F1-score = 0.9695\n",
            "Class 29: Precision = 0.9890, Recall = 0.9890, F1-score = 0.9890\n",
            "Class 65: Precision = 0.9878, Recall = 0.9529, F1-score = 0.9701\n",
            "Class 64: Precision = 1.0000, Recall = 0.9474, F1-score = 0.9730\n",
            "Class 8: Precision = 1.0000, Recall = 1.0000, F1-score = 1.0000\n",
            "Class 3: Precision = 1.0000, Recall = 0.8889, F1-score = 0.9412\n",
            "Class 34: Precision = 1.0000, Recall = 1.0000, F1-score = 1.0000\n",
            "Class 4: Precision = 0.9762, Recall = 0.9762, F1-score = 0.9762\n",
            "Class 20: Precision = 1.0000, Recall = 0.8947, F1-score = 0.9444\n",
            "Class 7: Precision = 1.0000, Recall = 0.9643, F1-score = 0.9818\n",
            "Class 71: Precision = 1.0000, Recall = 0.9434, F1-score = 0.9709\n",
            "Class 38: Precision = 0.9286, Recall = 0.9630, F1-score = 0.9455\n",
            "Class 13: Precision = 1.0000, Recall = 0.9833, F1-score = 0.9916\n",
            "Class 17: Precision = 1.0000, Recall = 1.0000, F1-score = 1.0000\n",
            "Class 54: Precision = 1.0000, Recall = 0.9722, F1-score = 0.9859\n",
            "Class 60: Precision = 0.9848, Recall = 0.9701, F1-score = 0.9774\n",
            "Class 0: Precision = 0.9512, Recall = 0.6842, F1-score = 0.7959\n",
            "Class 33: Precision = 1.0000, Recall = 0.8750, F1-score = 0.9333\n",
            "Class 57: Precision = 1.0000, Recall = 0.8250, F1-score = 0.9041\n",
            "Class 67: Precision = 1.0000, Recall = 0.7727, F1-score = 0.8718\n",
            "Class 5: Precision = 1.0000, Recall = 0.9091, F1-score = 0.9524\n",
            "Class 25: Precision = 1.0000, Recall = 0.7917, F1-score = 0.8837\n",
            "Class 23: Precision = 1.0000, Recall = 1.0000, F1-score = 1.0000\n",
            "Class 47: Precision = 0.6923, Recall = 0.4500, F1-score = 0.5455\n",
            "Class 12: Precision = 1.0000, Recall = 0.9474, F1-score = 0.9730\n",
            "Class 43: Precision = 1.0000, Recall = 0.8148, F1-score = 0.8980\n",
            "Class 77: Precision = 1.0000, Recall = 0.9630, F1-score = 0.9811\n",
            "Macro F1-score: 0.9492\n",
            "Weighted F1-score: 0.9609\n",
            "0.9687333032293928 0.9357013232963393\n"
          ]
        },
        {
          "output_type": "stream",
          "name": "stderr",
          "text": [
            "\n"
          ]
        }
      ]
    },
    {
      "cell_type": "code",
      "source": [
        "for i in class_accuracies:\n",
        "    print(i[0], index_to_ec[i[1]])"
      ],
      "metadata": {
        "colab": {
          "base_uri": "https://localhost:8080/"
        },
        "id": "B-bK6lPyaBNZ",
        "outputId": "379fe376-58be-494d-b5be-6ea995cb3e6c"
      },
      "execution_count": null,
      "outputs": [
        {
          "output_type": "stream",
          "name": "stdout",
          "text": [
            "0.6842105263157895 1.-.-\n",
            "0.8441558441558441 1.1.1\n",
            "0.9347826086956522 1.11.1\n",
            "0.8888888888888888 1.13.11\n",
            "0.9761904761904762 1.14.11\n",
            "0.9090909090909091 1.14.99\n",
            "0.9659090909090909 1.15.1\n",
            "0.9642857142857143 1.16.3\n",
            "1.0 1.17.1\n",
            "0.9726027397260274 1.4.3\n",
            "1.0 1.5.1\n",
            "0.9902912621359223 1.6.5\n",
            "0.9473684210526315 1.7.1\n",
            "0.9833333333333333 1.8.4\n",
            "0.9428571428571428 1.97.1\n",
            "0.9572139303482587 2.1.1\n",
            "0.9318181818181818 2.1.3\n",
            "1.0 2.2.1\n",
            "0.9358974358974359 2.3.1\n",
            "0.9476190476190476 2.3.2\n",
            "0.8947368421052632 2.4.1\n",
            "0.985 2.4.2\n",
            "0.9610027855153204 2.5.1\n",
            "1.0 2.6.99\n",
            "0.9193083573487032 2.7.1\n",
            "0.7916666666666666 2.7.11\n",
            "0.986449864498645 2.7.4\n",
            "0.9790382244143033 2.7.7\n",
            "0.9751552795031055 2.7.8\n",
            "0.989010989010989 2.8.1\n",
            "0.8907103825136612 3.1.-\n",
            "0.9507829977628636 3.1.1\n",
            "0.9886363636363636 3.1.11\n",
            "0.875 3.1.13\n",
            "1.0 3.1.15\n",
            "0.9397590361445783 3.1.2\n",
            "0.8971428571428571 3.1.21\n",
            "0.9776119402985075 3.1.26\n",
            "0.9629629629629629 3.1.27\n",
            "0.9322033898305084 3.1.3\n",
            "0.5652173913043478 3.1.4\n",
            "0.8461538461538461 3.2.1\n",
            "0.9540229885057471 3.2.2\n",
            "0.8148148148148148 3.4.-\n",
            "0.95 3.4.19\n",
            "0.9721448467966574 3.4.21\n",
            "0.9583333333333334 3.4.23\n",
            "0.45 3.4.24\n",
            "1.0 3.4.25\n",
            "0.972457627118644 3.5.1\n",
            "0.9795918367346939 3.5.2\n",
            "0.968421052631579 3.5.4\n",
            "0.8888888888888888 3.5.99\n",
            "0.9694915254237289 3.6.1\n",
            "0.9722222222222222 3.6.5\n",
            "0.9878419452887538 4.1.1\n",
            "0.9347826086956522 4.1.2\n",
            "0.825 4.1.3\n",
            "1.0 4.1.99\n",
            "0.9837133550488599 4.2.1\n",
            "0.9701492537313433 4.2.3\n",
            "0.9722222222222222 4.3.2\n",
            "0.95 4.4.1\n",
            "0.9455445544554455 4.6.1\n",
            "0.9473684210526315 5.1.3\n",
            "0.9529411764705882 5.2.1\n",
            "0.9935344827586207 5.3.1\n",
            "0.7727272727272727 5.3.3\n",
            "0.9905660377358491 5.4.2\n",
            "0.9523809523809523 5.4.99\n",
            "1.0 6.3.2\n",
            "0.9433962264150944 6.3.3\n",
            "0.9705882352941176 6.3.4\n",
            "0.9803921568627451 6.3.5\n",
            "0.9743589743589743 7.-.-\n",
            "0.9857881136950905 7.1.1\n",
            "1.0 7.2.1\n",
            "0.9629629629629629 7.3.2\n",
            "0.9896907216494846 7.6.2\n"
          ]
        }
      ]
    }
  ]
}